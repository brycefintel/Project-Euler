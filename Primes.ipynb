{
 "cells": [
  {
   "cell_type": "code",
   "execution_count": 1,
   "metadata": {
    "collapsed": true
   },
   "outputs": [],
   "source": [
    "import pickle"
   ]
  },
  {
   "cell_type": "code",
   "execution_count": 22,
   "metadata": {
    "collapsed": true
   },
   "outputs": [],
   "source": [
    "def is_prime(number):\n",
    "    if number==0:\n",
    "        return \"invalid input 0\"\n",
    "    if number==1:\n",
    "        return True\n",
    "    for x in range(2,number):\n",
    "        if number%x==0:\n",
    "            return False\n",
    "    return True"
   ]
  },
  {
   "cell_type": "markdown",
   "metadata": {},
   "source": [
    "#### Manually input Sieve of Erasthmus.  Works up to sieve(n) n==100."
   ]
  },
  {
   "cell_type": "code",
   "execution_count": null,
   "metadata": {
    "collapsed": true
   },
   "outputs": [],
   "source": [
    "def sieve(length):\n",
    "    primes=set(range(2,length))\n",
    "    for x in [2,3,5,7,11,13]:\n",
    "        for y in range(2,(length/x)+3):\n",
    "            if x*y in primes:\n",
    "                primes.remove(x*y)\n",
    "\n",
    "    for x in [17,19,23,29,31,37,41,43,47,53,59,61,67,71,73,79,83,89]:\n",
    "        for y in range(2,(length/x)+3):\n",
    "            if x*y in primes:\n",
    "                primes.remove(x*y)\n",
    "    \n",
    "    \n",
    "    return primes"
   ]
  },
  {
   "cell_type": "markdown",
   "metadata": {},
   "source": [
    "#### Working recursive Sieve of Erasthmus\n",
    "call sieve_x on n first integers, to get all primes less than that number.  Must be multiple of 10."
   ]
  },
  {
   "cell_type": "code",
   "execution_count": 127,
   "metadata": {
    "collapsed": true
   },
   "outputs": [],
   "source": [
    "def sieve_x(length):\n",
    "    \n",
    "    if length==10:\n",
    "        primes=set(range(2,length))\n",
    "        for x in [2,3,5,7,11,13]:\n",
    "            for y in range(2,(length/x)+3):\n",
    "                if x*y in primes:\n",
    "                    primes.remove(x*y)\n",
    "        return primes\n",
    "    else:\n",
    "        primes=set(range(2,length))\n",
    "        for x in sieve_x(length/10):\n",
    "            for y in range(2,(length/x)+3):\n",
    "                if x*y in primes:\n",
    "                    primes.remove(x*y)\n",
    "        return primes\n",
    "    \n",
    "    "
   ]
  },
  {
   "cell_type": "code",
   "execution_count": 139,
   "metadata": {},
   "outputs": [
    {
     "data": {
      "text/plain": [
       "664579"
      ]
     },
     "execution_count": 139,
     "metadata": {},
     "output_type": "execute_result"
    }
   ],
   "source": [
    "primes_from_10mill=sieve_x(10000000)\n",
    "len(primes_from_10mill)"
   ]
  },
  {
   "cell_type": "code",
   "execution_count": 140,
   "metadata": {
    "collapsed": true
   },
   "outputs": [],
   "source": [
    "pickle.dump( primes_from_10mill, open( \"primes_from_first_10_mill\", \"wb\" ) )"
   ]
  },
  {
   "cell_type": "code",
   "execution_count": 142,
   "metadata": {},
   "outputs": [
    {
     "data": {
      "text/plain": [
       "78498"
      ]
     },
     "execution_count": 142,
     "metadata": {},
     "output_type": "execute_result"
    }
   ],
   "source": [
    "primes_from_1mill=sieve_x(1000000)\n",
    "len(primes_from_1mill)"
   ]
  },
  {
   "cell_type": "code",
   "execution_count": 143,
   "metadata": {
    "collapsed": true
   },
   "outputs": [],
   "source": [
    "pickle.dump( primes_from_10mill, open( \"primes_from_first_1_mill\", \"wb\" ) )"
   ]
  },
  {
   "cell_type": "code",
   "execution_count": null,
   "metadata": {},
   "outputs": [],
   "source": []
  },
  {
   "cell_type": "code",
   "execution_count": null,
   "metadata": {
    "collapsed": true
   },
   "outputs": [],
   "source": []
  }
 ],
 "metadata": {
  "kernelspec": {
   "display_name": "Python 2",
   "language": "python",
   "name": "python2"
  },
  "language_info": {
   "codemirror_mode": {
    "name": "ipython",
    "version": 2
   },
   "file_extension": ".py",
   "mimetype": "text/x-python",
   "name": "python",
   "nbconvert_exporter": "python",
   "pygments_lexer": "ipython2",
   "version": "2.7.13"
  }
 },
 "nbformat": 4,
 "nbformat_minor": 2
}
